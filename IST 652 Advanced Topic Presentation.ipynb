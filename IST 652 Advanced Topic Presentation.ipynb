{
 "cells": [
  {
   "cell_type": "code",
   "execution_count": 1,
   "metadata": {},
   "outputs": [
    {
     "name": "stdout",
     "output_type": "stream",
     "text": [
      "Requirement already satisfied: cryptography in /Users/danielscott/opt/anaconda3/lib/python3.8/site-packages (2.9.2)\r\n",
      "Requirement already satisfied: cffi!=1.11.3,>=1.8 in /Users/danielscott/opt/anaconda3/lib/python3.8/site-packages (from cryptography) (1.14.0)\r\n",
      "Requirement already satisfied: six>=1.4.1 in /Users/danielscott/opt/anaconda3/lib/python3.8/site-packages (from cryptography) (1.15.0)\r\n",
      "Requirement already satisfied: pycparser in /Users/danielscott/opt/anaconda3/lib/python3.8/site-packages (from cffi!=1.11.3,>=1.8->cryptography) (2.20)\r\n"
     ]
    }
   ],
   "source": [
    "!pip install cryptography"
   ]
  },
  {
   "cell_type": "code",
   "execution_count": 3,
   "metadata": {},
   "outputs": [],
   "source": [
    "from cryptography.fernet import Fernet\n",
    "key = Fernet.generate_key()\n",
    "complete_cipher = Fernet(key)\n",
    "content_cipher = complete_cipher.encrypt(b\"This is a secret message, don't let anyone else read\")\n",
    "plain_text = complete_cipher.decrypt(content_cipher)"
   ]
  },
  {
   "cell_type": "code",
   "execution_count": 4,
   "metadata": {},
   "outputs": [
    {
     "name": "stdout",
     "output_type": "stream",
     "text": [
      "b'gAAAAABfe46kJeIoeJHau38XgACjtG5hGxSoCQfmfVTAYZglIr-2_V9i9_9yUouovgLRnWKahz7RqecbjfRNHHGN-TUdAiraYlqOti-ccXJwVKO5M-d9sNompcaVhSblp8p8A4MDSNZox0cXF-FC-Fr0WhLyNaQ65g=='\n"
     ]
    }
   ],
   "source": [
    "print(content_cipher)"
   ]
  },
  {
   "cell_type": "code",
   "execution_count": 5,
   "metadata": {},
   "outputs": [
    {
     "name": "stdout",
     "output_type": "stream",
     "text": [
      "b\"This is a secret message, don't let anyone else read\"\n"
     ]
    }
   ],
   "source": [
    "print(plain_text)"
   ]
  },
  {
   "cell_type": "code",
   "execution_count": null,
   "metadata": {},
   "outputs": [],
   "source": []
  }
 ],
 "metadata": {
  "kernelspec": {
   "display_name": "Python 3",
   "language": "python",
   "name": "python3"
  },
  "language_info": {
   "codemirror_mode": {
    "name": "ipython",
    "version": 3
   },
   "file_extension": ".py",
   "mimetype": "text/x-python",
   "name": "python",
   "nbconvert_exporter": "python",
   "pygments_lexer": "ipython3",
   "version": "3.8.3"
  }
 },
 "nbformat": 4,
 "nbformat_minor": 4
}
